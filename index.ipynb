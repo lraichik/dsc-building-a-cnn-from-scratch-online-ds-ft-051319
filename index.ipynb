{
 "cells": [
  {
   "cell_type": "markdown",
   "metadata": {},
   "source": [
    "# Building a CNN from Scratch - Lab\n",
    "\n",
    "## Introduction\n",
    "\n",
    "Now that you have background knowledge regarding how CNNs work and how to implement them via Keras, its time to practice those skills a little more independently in order to build a CNN on your own to solve a image recognition problem. In this lab, you'll practice building an image classifier from start to finish using a CNN.  \n",
    "\n",
    "## Objectives\n",
    "\n",
    "You will be able to:\n",
    "* Transform images into tensors\n",
    "* Build a CNN model for image recognition"
   ]
  },
  {
   "cell_type": "markdown",
   "metadata": {},
   "source": [
    "## Loading the Images\n",
    "\n",
    "The data for this lab concerns classifying lung xray images for pneumonia. The original dataset is from kaggle. We have downsampled this dataset in order to reduce training time for you when you design and fit your model to the data. It is anticipated that this process will take approximately 1 hour to run on a standard machine, although times will vary depending on your particular computer and set up. At the end of this lab, you are welcome to try training on the complete dataset and observe the impact on the model's overall accuracy. \n",
    "\n",
    "You can find the initial downsampled dataset in a subdirectory, **chest_xray**, of this repository."
   ]
  },
  {
   "cell_type": "code",
   "execution_count": 2,
   "metadata": {},
   "outputs": [],
   "source": [
    "#Your code here; load the images; be sure to also preprocess these into tensors.\n",
    "from keras.preprocessing.image import ImageDataGenerator"
   ]
  },
  {
   "cell_type": "code",
   "execution_count": 3,
   "metadata": {},
   "outputs": [
    {
     "name": "stdout",
     "output_type": "stream",
     "text": [
      "Found 1738 images belonging to 2 classes.\n",
      "Found 4 images belonging to 2 classes.\n"
     ]
    }
   ],
   "source": [
    "train_dir = 'chest_xray_downsampled/train'\n",
    "validation_dir = 'chest_xray_downsampled/val/'\n",
    "test_dir = 'chest_xray_downsampled/test/'\n",
    "\n",
    "# All images will be rescaled by 1./255\n",
    "train_datagen = ImageDataGenerator(rescale=1./255)\n",
    "test_datagen = ImageDataGenerator(rescale=1./255)\n",
    "\n",
    "train_generator = train_datagen.flow_from_directory(\n",
    "        # This is the target directory\n",
    "        train_dir,\n",
    "        # All images will be resized to 150x150\n",
    "        target_size=(150, 150),\n",
    "        batch_size=20,\n",
    "        # Since we use binary_crossentropy loss, we need binary labels\n",
    "        class_mode='binary')\n",
    "\n",
    "validation_generator = test_datagen.flow_from_directory(\n",
    "        validation_dir,\n",
    "        target_size=(150, 150),\n",
    "        batch_size=20,\n",
    "        class_mode='binary')"
   ]
  },
  {
   "cell_type": "markdown",
   "metadata": {},
   "source": [
    "## Designing the Model\n",
    "\n",
    "Now it's time to design your CNN! Remember a few things when doing this: \n",
    "* You should alternate convolutional and pooling layers\n",
    "* You should have later layers have a larger number of parameters in order to detect more abstract patterns\n",
    "* Add some final dense layers to add a classifier to the convolutional base"
   ]
  },
  {
   "cell_type": "code",
   "execution_count": 6,
   "metadata": {},
   "outputs": [],
   "source": [
    "#Your code here; design and compile the model\n",
    "from keras import layers\n",
    "from keras import models\n",
    "\n",
    "model = models.Sequential()\n",
    "model.add(layers.Conv2D(32, (3, 3), activation='relu',\n",
    "                        input_shape=(150, 150, 3)))\n",
    "model.add(layers.MaxPooling2D((2, 2)))\n",
    "model.add(layers.Conv2D(64, (3, 3), activation='relu'))\n",
    "model.add(layers.MaxPooling2D((2, 2)))\n",
    "model.add(layers.Conv2D(128, (3, 3), activation='relu'))\n",
    "model.add(layers.MaxPooling2D((2, 2)))\n",
    "model.add(layers.Conv2D(256, (3, 3), activation='relu'))\n",
    "model.add(layers.MaxPooling2D((2, 2)))\n",
    "model.add(layers.Flatten())\n",
    "model.add(layers.Dense(512, activation='relu'))\n",
    "model.add(layers.Dense(1, activation='sigmoid'))"
   ]
  },
  {
   "cell_type": "code",
   "execution_count": 7,
   "metadata": {},
   "outputs": [],
   "source": [
    "from keras import optimizers\n",
    "\n",
    "model.compile(loss='binary_crossentropy',\n",
    "              optimizer=optimizers.RMSprop(lr=1e-4),\n",
    "              metrics=['acc'])"
   ]
  },
  {
   "cell_type": "markdown",
   "metadata": {},
   "source": [
    "## Training and Evaluating the Model\n",
    "\n",
    "Remember that training deep networks is resource intensive: depending on the size of the data, even a CNN with 3-4 successive convolutional and pooling layers is apt to take a hours to train on a high end laptop. Using 30 epochs and 8 layers (alternating between convolutional and pooling), our model took about 40 minutes to run on a year old macbook pro.\n",
    "\n",
    "\n",
    "If you are concerned with runtime, you may want to set your model to run the training epochs overnight.  \n",
    "\n",
    "**If you are going to run this process overnight, be sure to also script code for the following questions concerning data augmentation. Check your code twice (or more) and then set the notebook to run all, or something equivalent to have them train overnight.**"
   ]
  },
  {
   "cell_type": "code",
   "execution_count": 8,
   "metadata": {
    "scrolled": true
   },
   "outputs": [
    {
     "name": "stdout",
     "output_type": "stream",
     "text": [
      "Epoch 1/30\n",
      "100/100 [==============================] - 84s 839ms/step - loss: 0.4657 - acc: 0.7967 - val_loss: 0.6953 - val_acc: 0.7500\n",
      "Epoch 2/30\n",
      "100/100 [==============================] - 87s 869ms/step - loss: 0.2529 - acc: 0.8923 - val_loss: 0.9782 - val_acc: 0.7500\n",
      "Epoch 3/30\n",
      "100/100 [==============================] - 87s 875ms/step - loss: 0.1633 - acc: 0.9408 - val_loss: 1.5111 - val_acc: 0.7500\n",
      "Epoch 4/30\n",
      "100/100 [==============================] - 86s 863ms/step - loss: 0.1420 - acc: 0.9430 - val_loss: 1.0173 - val_acc: 0.5000\n",
      "Epoch 5/30\n",
      "100/100 [==============================] - 83s 828ms/step - loss: 0.1170 - acc: 0.9514 - val_loss: 0.8155 - val_acc: 0.7500\n",
      "Epoch 6/30\n",
      "100/100 [==============================] - 83s 833ms/step - loss: 0.1016 - acc: 0.9579 - val_loss: 0.7377 - val_acc: 0.7500\n",
      "Epoch 7/30\n",
      "100/100 [==============================] - 83s 830ms/step - loss: 0.0984 - acc: 0.9594 - val_loss: 1.2720 - val_acc: 0.5000\n",
      "Epoch 8/30\n",
      "100/100 [==============================] - 84s 838ms/step - loss: 0.0781 - acc: 0.9715 - val_loss: 0.7307 - val_acc: 0.7500\n",
      "Epoch 9/30\n",
      "100/100 [==============================] - 84s 836ms/step - loss: 0.0738 - acc: 0.9710 - val_loss: 1.2106 - val_acc: 0.5000\n",
      "Epoch 10/30\n",
      "100/100 [==============================] - 83s 834ms/step - loss: 0.0595 - acc: 0.9784 - val_loss: 1.1201 - val_acc: 0.7500\n",
      "Epoch 11/30\n",
      "100/100 [==============================] - 86s 856ms/step - loss: 0.0499 - acc: 0.9820 - val_loss: 1.9127 - val_acc: 0.5000\n",
      "Epoch 12/30\n",
      "100/100 [==============================] - 82s 822ms/step - loss: 0.0513 - acc: 0.9834 - val_loss: 3.1625 - val_acc: 0.5000\n",
      "Epoch 13/30\n",
      "100/100 [==============================] - 81s 814ms/step - loss: 0.0514 - acc: 0.9800 - val_loss: 0.8542 - val_acc: 0.7500\n",
      "Epoch 14/30\n",
      "100/100 [==============================] - 82s 819ms/step - loss: 0.0487 - acc: 0.9825 - val_loss: 0.6028 - val_acc: 0.7500\n",
      "Epoch 15/30\n",
      "100/100 [==============================] - 82s 820ms/step - loss: 0.0272 - acc: 0.9895 - val_loss: 0.6044 - val_acc: 0.7500\n",
      "Epoch 16/30\n",
      "100/100 [==============================] - 85s 849ms/step - loss: 0.0326 - acc: 0.9885 - val_loss: 1.1193 - val_acc: 0.7500\n",
      "Epoch 17/30\n",
      "100/100 [==============================] - 84s 839ms/step - loss: 0.0323 - acc: 0.9885 - val_loss: 0.4472 - val_acc: 0.7500\n",
      "Epoch 18/30\n",
      "100/100 [==============================] - 83s 834ms/step - loss: 0.0195 - acc: 0.9920 - val_loss: 3.6648 - val_acc: 0.5000\n",
      "Epoch 19/30\n",
      "100/100 [==============================] - 84s 838ms/step - loss: 0.0180 - acc: 0.9934 - val_loss: 1.4559 - val_acc: 0.7500\n",
      "Epoch 20/30\n",
      "100/100 [==============================] - 86s 864ms/step - loss: 0.0214 - acc: 0.9925 - val_loss: 1.1759 - val_acc: 0.7500\n",
      "Epoch 21/30\n",
      "100/100 [==============================] - 88s 879ms/step - loss: 0.0178 - acc: 0.9940 - val_loss: 0.2985 - val_acc: 0.7500\n",
      "Epoch 22/30\n",
      "100/100 [==============================] - 90s 897ms/step - loss: 0.0126 - acc: 0.9955 - val_loss: 0.9574 - val_acc: 0.7500\n",
      "Epoch 23/30\n",
      "100/100 [==============================] - 88s 885ms/step - loss: 0.0156 - acc: 0.9935 - val_loss: 0.8232 - val_acc: 0.7500\n",
      "Epoch 24/30\n",
      "100/100 [==============================] - 88s 881ms/step - loss: 0.0087 - acc: 0.9970 - val_loss: 1.2388 - val_acc: 0.7500\n",
      "Epoch 25/30\n",
      "100/100 [==============================] - 89s 890ms/step - loss: 0.0123 - acc: 0.9960 - val_loss: 2.0948 - val_acc: 0.7500\n",
      "Epoch 26/30\n",
      "100/100 [==============================] - 92s 918ms/step - loss: 0.0072 - acc: 0.9980 - val_loss: 1.4553 - val_acc: 0.7500\n",
      "Epoch 27/30\n",
      "100/100 [==============================] - 92s 917ms/step - loss: 0.0060 - acc: 0.9975 - val_loss: 3.3106 - val_acc: 0.7500\n",
      "Epoch 28/30\n",
      "100/100 [==============================] - 89s 887ms/step - loss: 0.0034 - acc: 0.9990 - val_loss: 0.9834 - val_acc: 0.7500\n",
      "Epoch 29/30\n",
      "100/100 [==============================] - 100s 996ms/step - loss: 0.0082 - acc: 0.9970 - val_loss: 1.4105 - val_acc: 0.7500\n",
      "Epoch 30/30\n",
      "100/100 [==============================] - 100s 995ms/step - loss: 0.0070 - acc: 0.9970 - val_loss: 0.0069 - val_acc: 1.0000\n"
     ]
    }
   ],
   "source": [
    "#Set the model to train; see warnings above\n",
    "history = model.fit_generator(\n",
    "      train_generator,\n",
    "      steps_per_epoch=100,\n",
    "      epochs=30,\n",
    "      validation_data=validation_generator,\n",
    "      validation_steps=50)"
   ]
  },
  {
   "cell_type": "code",
   "execution_count": 9,
   "metadata": {},
   "outputs": [
    {
     "data": {
      "image/png": "[encoded data removed]",
      "text/plain": [
       "<Figure size 432x288 with 1 Axes>"
      ]
     },
     "metadata": {
      "needs_background": "light"
     },
     "output_type": "display_data"
    },
    {
     "data": {
      "image/png": "[encoded data removed]",
      "text/plain": [
       "<Figure size 432x288 with 1 Axes>"
      ]
     },
     "metadata": {
      "needs_background": "light"
     },
     "output_type": "display_data"
    }
   ],
   "source": [
    "# Plot history\n",
    "import matplotlib.pyplot as plt\n",
    "%matplotlib inline \n",
    "\n",
    "acc = history.history['acc']\n",
    "val_acc = history.history['val_acc']\n",
    "loss = history.history['loss']\n",
    "val_loss = history.history['val_loss']\n",
    "epochs = range(len(acc))\n",
    "plt.plot(epochs, acc, 'bo', label='Training acc')\n",
    "plt.plot(epochs, val_acc, 'b', label='Validation acc')\n",
    "plt.title('Training and validation accuracy')\n",
    "plt.legend()\n",
    "plt.figure()\n",
    "plt.plot(epochs, loss, 'bo', label='Training loss')\n",
    "plt.plot(epochs, val_loss, 'b', label='Validation loss')\n",
    "plt.title('Training and validation loss')\n",
    "plt.legend()\n",
    "plt.show()"
   ]
  },
  {
   "cell_type": "markdown",
   "metadata": {},
   "source": [
    "## Save the Model"
   ]
  },
  {
   "cell_type": "code",
   "execution_count": 10,
   "metadata": {},
   "outputs": [],
   "source": [
    "#Your code here; save the model for future reference.\n",
    "model.save('chest_xray_downsampled_data.h5')"
   ]
  },
  {
   "cell_type": "markdown",
   "metadata": {},
   "source": [
    "## Data Augmentation\n",
    "\n",
    "Recall that data augmentation is typically always a necessary step when using a small dataset as this one which you have been provided. As such, if you haven't already, implement a data augmentation setup.\n",
    "\n",
    "**Warning: This process took nearly 4 hours to run on a relatively new macbook pro. As such, it is recommended that you simply code the setup and compare to the solution branch, or set the process to run overnight if you do choose to actually run the code.**"
   ]
  },
  {
   "cell_type": "code",
   "execution_count": null,
   "metadata": {},
   "outputs": [],
   "source": [
    "#Add data augmentation to the model setup and set the model to train; \n",
    "#See warnings above if you intend to run this block of code\n",
    "train_datagen = ImageDataGenerator(\n",
    "      rotation_range=40,\n",
    "      width_shift_range=0.2,\n",
    "      height_shift_range=0.2,\n",
    "      shear_range=0.2,\n",
    "      zoom_range=0.2,\n",
    "      horizontal_flip=True,\n",
    "      fill_mode='nearest')\n",
    "\n",
    "test_datagen = ImageDataGenerator(rescale=1./255)\n",
    "\n",
    "train_generator = train_datagen.flow_from_directory(\n",
    "        # This is the target directory\n",
    "        train_dir,\n",
    "        # All images will be resized to 150x150\n",
    "        target_size=(150, 150),\n",
    "        batch_size=32,\n",
    "        # Since we use binary_crossentropy loss, we need binary labels\n",
    "        class_mode='binary')\n",
    "\n",
    "validation_generator = test_datagen.flow_from_directory(\n",
    "        validation_dir,\n",
    "        target_size=(150, 150),\n",
    "        batch_size=32,\n",
    "        class_mode='binary')\n",
    "\n",
    "history = model.fit_generator(\n",
    "      train_generator,\n",
    "      steps_per_epoch=100,\n",
    "      epochs=100,\n",
    "      validation_data=validation_generator,\n",
    "      validation_steps=50)"
   ]
  },
  {
   "cell_type": "markdown",
   "metadata": {},
   "source": [
    "## Final Evaluation\n",
    "\n",
    "Now use the test set to perform a final evaluation on your model of choice."
   ]
  },
  {
   "cell_type": "code",
   "execution_count": 12,
   "metadata": {},
   "outputs": [
    {
     "name": "stdout",
     "output_type": "stream",
     "text": [
      "Found 208 images belonging to 2 classes.\n",
      "test acc: 0.8392857140352746\n",
      "test loss: 1.3811661544678528\n"
     ]
    }
   ],
   "source": [
    "# Your code here; perform a final evaluation using the test set..\n",
    "test_generator = test_datagen.flow_from_directory(\n",
    "        test_dir,\n",
    "        target_size=(150, 150),\n",
    "        batch_size=20,\n",
    "        class_mode='binary')\n",
    "test_loss, test_acc = model.evaluate_generator(test_generator, steps=50)\n",
    "print('test acc:', test_acc)\n",
    "print('test loss:', test_loss)"
   ]
  },
  {
   "cell_type": "markdown",
   "metadata": {},
   "source": [
    "## Extension: Adding Data to the Model\n",
    "\n",
    "As discussed, the current dataset we worked with is a subset of a dataset hosted on Kaggle. Increasing the data that we use to train the model will result in additional performance gains but will also result in longer training times and be more resource intensive.   \n",
    "\n",
    "It is estimated that training on the full dataset will take approximately 4 hours (and potentially significantly longer) depending on your computer's specifications.\n",
    "\n",
    "In order to test the impact of training on the full dataset, start by downloading the data from kaggle here: https://www.kaggle.com/paultimothymooney/chest-xray-pneumonia.   "
   ]
  },
  {
   "cell_type": "code",
   "execution_count": null,
   "metadata": {},
   "outputs": [],
   "source": [
    "#Optional extension; Your code here"
   ]
  },
  {
   "cell_type": "markdown",
   "metadata": {},
   "source": [
    "## Summary\n",
    "\n",
    "Well done! In this lab, you practice building your own CNN for image recognition which drastically outperformed our previous attempts using a standard deep learning model alone. In the upcoming sections, we'll continue to investigate further techniques associated with CNNs including visualizing the representations they learn and techniques to further bolster their performance when we have limited training data such as here."
   ]
  }
 ],
 "metadata": {
  "kernelspec": {
   "display_name": "Python [conda env:learn-env] *",
   "language": "python",
   "name": "conda-env-learn-env-py"
  },
  "language_info": {
   "codemirror_mode": {
    "name": "ipython",
    "version": 3
   },
   "file_extension": ".py",
   "mimetype": "text/x-python",
   "name": "python",
   "nbconvert_exporter": "python",
   "pygments_lexer": "ipython3",
   "version": "3.6.6"
  }
 },
 "nbformat": 4,
 "nbformat_minor": 2
}
